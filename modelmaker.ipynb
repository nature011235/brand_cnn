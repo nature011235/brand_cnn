{
 "cells": [
  {
   "cell_type": "code",
   "execution_count": 1,
   "id": "5608b441",
   "metadata": {},
   "outputs": [],
   "source": [
    "from keras.layers import Input, Conv2D, MaxPooling2D\n",
    "from keras.layers import Dense, Flatten\n",
    "from keras.models import Model\n",
    "from keras.applications.vgg16 import decode_predictions\n",
    "from keras.applications.vgg16 import preprocess_input\n",
    "import matplotlib.pyplot as plt \n",
    "\n",
    "import seaborn as sns\n",
    "import os \n",
    "from keras.applications import VGG19\n",
    "from os import listdir, makedirs\n",
    "from os.path import join, exists, expanduser\n",
    "import tensorflow as tf\n",
    "from tensorflow.keras.preprocessing import image\n",
    "from sklearn.metrics import confusion_matrix\n",
    "from numpy import newaxis\n",
    "import cv2\n",
    "from keras.models import Sequential\n",
    "from keras.layers import Conv2D, MaxPooling2D,Dense,Activation,Dropout,Flatten,BatchNormalization\n",
    "import matplotlib.pyplot as plt\n",
    "from glob import glob\n",
    "from keras.applications import VGG19\n",
    "from skimage.feature import local_binary_pattern\n",
    "from tensorflow.keras.optimizers import Adam\n",
    "import numpy as np\n",
    "from tensorflow.keras.regularizers import l2\n",
    "from keras import applications\n",
    "from keras.preprocessing.image import ImageDataGenerator\n",
    "from keras import optimizers\n",
    "from keras.models import Sequential, Model\n",
    "from keras.layers import Dense, GlobalAveragePooling2D\n",
    "from keras.layers import Activation, Dropout, Flatten, Dense\n",
    "from keras import backend as K\n",
    "import tensorflow as tf\n",
    "import matplotlib.pyplot as plt\n",
    "from matplotlib.pyplot import figure\n",
    "from PIL import Image \n"
   ]
  },
  {
   "cell_type": "code",
   "execution_count": 2,
   "id": "01c56856",
   "metadata": {},
   "outputs": [
    {
     "name": "stdout",
     "output_type": "stream",
     "text": [
      "['ferrari', 'hyundai', 'lexus', 'mazda', 'mercedes', 'opel', 'skoda', 'toyota', 'volkswagen']\n",
      "Average ratio of width to height is 0.7892913569994495\n"
     ]
    }
   ],
   "source": [
    "def Average(lst):                                           #算出所有圖片的平均長寬比\n",
    "    return sum(lst) / len(lst)\n",
    "\n",
    "path=\"Train\"\n",
    "listdir = os.listdir(path)\n",
    "ratios_sub = []\n",
    "ratios = []\n",
    "print(listdir)\n",
    "for imdir in listdir:                                       \n",
    "    imlist = os.listdir(os.path.join(path, imdir))  \n",
    "    for im in imlist:\n",
    "        im = cv2.imread(os.path.join(path,imdir,im))\n",
    "        ratio = (im.shape[0] / im.shape[1]) \n",
    "        ratios_sub.append((ratio))\n",
    "    ratios_sub_ave=Average(ratios_sub)\n",
    "    ratios.append((ratios_sub_ave))    \n",
    "ratio_ave = Average(ratios)\n",
    "print(\"Average ratio of width to height is {}\".format(ratio_ave))\n"
   ]
  },
  {
   "cell_type": "code",
   "execution_count": 3,
   "id": "1f707fd8",
   "metadata": {},
   "outputs": [
    {
     "name": "stdout",
     "output_type": "stream",
     "text": [
      "(189, 240)\n"
     ]
    }
   ],
   "source": [
    "width = 240\n",
    "height= int(width*ratio_ave)\n",
    "input_shape = ( height,width)        #算出input size\n",
    "print(input_shape)"
   ]
  },
  {
   "cell_type": "code",
   "execution_count": 4,
   "id": "0037f73f",
   "metadata": {},
   "outputs": [],
   "source": [
    "img_width, img_height = width,height \n",
    "train_data_dir = 'Train/'\n",
    "validation_data_dir = 'Test/'\n",
    "\n",
    "numberOfClass=9\n",
    "batch_size = 4\n",
    "epochs=10"
   ]
  },
  {
   "cell_type": "code",
   "execution_count": 5,
   "id": "250bb4e2",
   "metadata": {},
   "outputs": [
    {
     "name": "stdout",
     "output_type": "stream",
     "text": [
      "Found 2542 images belonging to 9 classes.\n",
      "Found 411 images belonging to 9 classes.\n"
     ]
    }
   ],
   "source": [
    "train_datagen = ImageDataGenerator(                                       \n",
    "    rescale=1. / 255,\n",
    "    shear_range=0.95,\n",
    "    zoom_range=0.95,\n",
    "    horizontal_flip=True,vertical_flip=True) \n",
    "\n",
    "\n",
    "\n",
    "test_datagen = ImageDataGenerator(rescale=1. / 255)\n",
    "\n",
    "\n",
    "train_generator = train_datagen.flow_from_directory(            #資料夾內所有圖片導入產生器\n",
    "    train_data_dir,\n",
    "    target_size=(img_height, img_width),\n",
    "    batch_size=batch_size,\n",
    "    class_mode='categorical')\n",
    "\n",
    "validation_generator = test_datagen.flow_from_directory(         #test data\n",
    "    validation_data_dir,\n",
    "    target_size=(img_height, img_width),\n",
    "    batch_size=batch_size,\n",
    "    class_mode='categorical')"
   ]
  },
  {
   "cell_type": "code",
   "execution_count": 26,
   "id": "cfac7c9c",
   "metadata": {},
   "outputs": [
    {
     "name": "stdout",
     "output_type": "stream",
     "text": [
      "Model: \"sequential_10\"\n",
      "_________________________________________________________________\n",
      " Layer (type)                Output Shape              Param #   \n",
      "=================================================================\n",
      " block1_conv1 (Conv2D)       (None, 189, 240, 64)      1792      \n",
      "                                                                 \n",
      " block1_conv2 (Conv2D)       (None, 189, 240, 64)      36928     \n",
      "                                                                 \n",
      " block1_pool (MaxPooling2D)  (None, 94, 120, 64)       0         \n",
      "                                                                 \n",
      " block2_conv1 (Conv2D)       (None, 94, 120, 128)      73856     \n",
      "                                                                 \n",
      " block2_conv2 (Conv2D)       (None, 94, 120, 128)      147584    \n",
      "                                                                 \n",
      " block2_pool (MaxPooling2D)  (None, 47, 60, 128)       0         \n",
      "                                                                 \n",
      " block3_conv1 (Conv2D)       (None, 47, 60, 256)       295168    \n",
      "                                                                 \n",
      " block3_conv2 (Conv2D)       (None, 47, 60, 256)       590080    \n",
      "                                                                 \n",
      " block3_conv3 (Conv2D)       (None, 47, 60, 256)       590080    \n",
      "                                                                 \n",
      " block3_conv4 (Conv2D)       (None, 47, 60, 256)       590080    \n",
      "                                                                 \n",
      " block3_pool (MaxPooling2D)  (None, 23, 30, 256)       0         \n",
      "                                                                 \n",
      " block4_conv1 (Conv2D)       (None, 23, 30, 512)       1180160   \n",
      "                                                                 \n",
      " block4_conv2 (Conv2D)       (None, 23, 30, 512)       2359808   \n",
      "                                                                 \n",
      " block4_conv3 (Conv2D)       (None, 23, 30, 512)       2359808   \n",
      "                                                                 \n",
      " block4_conv4 (Conv2D)       (None, 23, 30, 512)       2359808   \n",
      "                                                                 \n",
      " block4_pool (MaxPooling2D)  (None, 11, 15, 512)       0         \n",
      "                                                                 \n",
      " block5_conv1 (Conv2D)       (None, 11, 15, 512)       2359808   \n",
      "                                                                 \n",
      " block5_conv2 (Conv2D)       (None, 11, 15, 512)       2359808   \n",
      "                                                                 \n",
      " block5_conv3 (Conv2D)       (None, 11, 15, 512)       2359808   \n",
      "                                                                 \n",
      " block5_conv4 (Conv2D)       (None, 11, 15, 512)       2359808   \n",
      "                                                                 \n",
      " block5_pool (MaxPooling2D)  (None, 5, 7, 512)         0         \n",
      "                                                                 \n",
      " flatten_10 (Flatten)        (None, 17920)             0         \n",
      "                                                                 \n",
      " dense_32 (Dense)            (None, 1024)              18351104  \n",
      "                                                                 \n",
      " activation_32 (Activation)  (None, 1024)              0         \n",
      "                                                                 \n",
      " dropout_22 (Dropout)        (None, 1024)              0         \n",
      "                                                                 \n",
      " dense_33 (Dense)            (None, 512)               524800    \n",
      "                                                                 \n",
      " activation_33 (Activation)  (None, 512)               0         \n",
      "                                                                 \n",
      " dropout_23 (Dropout)        (None, 512)               0         \n",
      "                                                                 \n",
      " dense_34 (Dense)            (None, 9)                 4617      \n",
      "                                                                 \n",
      " activation_34 (Activation)  (None, 9)                 0         \n",
      "                                                                 \n",
      "=================================================================\n",
      "Total params: 38,904,905\n",
      "Trainable params: 21,240,329\n",
      "Non-trainable params: 17,664,576\n",
      "_________________________________________________________________\n"
     ]
    }
   ],
   "source": [
    "vgg = VGG19(include_top= False, weights = \"imagenet\", input_shape=( img_height,img_width, 3))  #使用預設imagenet參數\n",
    "\n",
    "vgg_layer_list = vgg.layers         \n",
    "\n",
    "model = Sequential ()                                      #創建模型\n",
    "\n",
    "for layer in vgg_layer_list:\n",
    "    model.add(layer)                                  #加入模型\n",
    "\n",
    "for layer in model.layers:\n",
    "     layer.trainable = False                          #凍結預訓練層參數\n",
    "model.layers[19].trainable = True                   #將最後一層卷積設為可訓練\n",
    "\n",
    "    \n",
    "model.add(Flatten())                                         #增加全連接隱藏層\n",
    "model.add(Dense(1024))\n",
    "model.add(Activation('relu'))\n",
    "model.add(Dropout(0.1))\n",
    "\n",
    "\n",
    "\n",
    "\n",
    "model.add(Dense(512))\n",
    "model.add(Activation('relu'))\n",
    "model.add(Dropout(0.1))\n",
    "\n",
    "# model.add(Dense(256))\n",
    "# model.add(Activation('relu'))\n",
    "# model.add(Dropout(0.1))\n",
    "\n",
    "model.add(Dense(numberOfClass))\n",
    "model.add(Activation('softmax'))\n",
    "model.summary()\n",
    "\n",
    "opt = Adam(learning_rate=0.001, beta_1=0.9, beta_2=0.999)      \n",
    "\n",
    "\n",
    "\n",
    "\n",
    "\n"
   ]
  },
  {
   "cell_type": "code",
   "execution_count": 27,
   "id": "cd023cef",
   "metadata": {},
   "outputs": [
    {
     "name": "stdout",
     "output_type": "stream",
     "text": [
      "Epoch 1/10\n",
      "636/636 [==============================] - 53s 82ms/step - loss: 1.8036 - accuracy: 0.3737 - val_loss: 1.2575 - val_accuracy: 0.6934\n",
      "Epoch 2/10\n",
      "636/636 [==============================] - 65s 102ms/step - loss: 1.4016 - accuracy: 0.5260 - val_loss: 1.1372 - val_accuracy: 0.7007\n",
      "Epoch 3/10\n",
      "636/636 [==============================] - 78s 122ms/step - loss: 1.3323 - accuracy: 0.5566 - val_loss: 0.9973 - val_accuracy: 0.7226\n",
      "Epoch 4/10\n",
      "636/636 [==============================] - 79s 124ms/step - loss: 1.2734 - accuracy: 0.5795 - val_loss: 0.8389 - val_accuracy: 0.7616\n",
      "Epoch 5/10\n",
      "636/636 [==============================] - 83s 131ms/step - loss: 1.1991 - accuracy: 0.6007 - val_loss: 0.9161 - val_accuracy: 0.7299\n",
      "Epoch 6/10\n",
      "636/636 [==============================] - 76s 119ms/step - loss: 1.1547 - accuracy: 0.6263 - val_loss: 1.0307 - val_accuracy: 0.7543\n",
      "Epoch 7/10\n",
      "636/636 [==============================] - 78s 123ms/step - loss: 1.1935 - accuracy: 0.6255 - val_loss: 0.8365 - val_accuracy: 0.7713\n",
      "Epoch 8/10\n",
      "636/636 [==============================] - 77s 122ms/step - loss: 1.1766 - accuracy: 0.6129 - val_loss: 0.9551 - val_accuracy: 0.7591\n",
      "Epoch 9/10\n",
      "636/636 [==============================] - 87s 136ms/step - loss: 1.1304 - accuracy: 0.6168 - val_loss: 0.8273 - val_accuracy: 0.7640\n",
      "Epoch 10/10\n",
      "636/636 [==============================] - 95s 149ms/step - loss: 1.1205 - accuracy: 0.6353 - val_loss: 0.9427 - val_accuracy: 0.7689\n"
     ]
    }
   ],
   "source": [
    "model.compile(optimizer=opt, loss=\"categorical_crossentropy\", metrics=[\"accuracy\"])\n",
    "hist = model.fit(                                                       #開始訓練\n",
    "        train_generator,        \n",
    "        epochs=epochs,\n",
    "        validation_data=validation_generator)\n",
    "\n"
   ]
  },
  {
   "cell_type": "code",
   "execution_count": 28,
   "id": "5b023631",
   "metadata": {},
   "outputs": [],
   "source": [
    "model.save('CAR_06353.h5')                                 #儲存模型\n",
    " "
   ]
  },
  {
   "cell_type": "code",
   "execution_count": 36,
   "id": "dc5170b3",
   "metadata": {},
   "outputs": [
    {
     "name": "stdout",
     "output_type": "stream",
     "text": [
      "1/1 [==============================] - 0s 22ms/step\n",
      "toyota\n"
     ]
    }
   ],
   "source": [
    "image_path = \"C:\\\\Users\\\\natur\\\\OneDrive\\\\桌面\\\\5g2lar8yqfuksvm79owz4ey1z7t1qk.jpg\"\n",
    "\n",
    "# 載入圖片並進行預處理\n",
    "img = image.load_img(image_path, target_size=(img_height,img_width))\n",
    "x = image.img_to_array(img)\n",
    "x = np.expand_dims(x, axis=0)\n",
    "x = preprocess_input(x)\n",
    "\n",
    "# 進行預測\n",
    "predictions = model.predict(x)\n",
    "predicted_class_index = np.argmax(predictions )\n",
    "print(listdir[predicted_class_index])"
   ]
  },
  {
   "cell_type": "code",
   "execution_count": 33,
   "id": "ba90e2f9",
   "metadata": {},
   "outputs": [
    {
     "data": {
      "image/png": "[encoded data removed]",
      "text/plain": [
       "<Figure size 640x480 with 1 Axes>"
      ]
     },
     "metadata": {},
     "output_type": "display_data"
    },
    {
     "data": {
      "image/png": "[encoded data removed]",
      "text/plain": [
       "<Figure size 640x480 with 1 Axes>"
      ]
     },
     "metadata": {},
     "output_type": "display_data"
    }
   ],
   "source": [
    "plt.plot(hist.history[\"loss\"], label =\"Train Loss\")                    #畫出準確率圖\n",
    "plt.plot(hist.history[\"val_loss\"], label =\"Validation Loss\")\n",
    "plt.legend()\n",
    "plt.show()\n",
    "plt.figure()\n",
    "plt.plot(hist.history[\"accuracy\"], label =\"Train accuracy\")\n",
    "plt.plot(hist.history[\"val_accuracy\"], label =\"Validation accuracy\")\n",
    "plt.legend()\n",
    "plt.show()"
   ]
  },
  {
   "cell_type": "code",
   "execution_count": null,
   "id": "16743b55",
   "metadata": {},
   "outputs": [],
   "source": []
  }
 ],
 "metadata": {
  "kernelspec": {
   "display_name": "Python 3 (ipykernel)",
   "language": "python",
   "name": "python3"
  },
  "language_info": {
   "codemirror_mode": {
    "name": "ipython",
    "version": 3
   },
   "file_extension": ".py",
   "mimetype": "text/x-python",
   "name": "python",
   "nbconvert_exporter": "python",
   "pygments_lexer": "ipython3",
   "version": "3.8.13"
  }
 },
 "nbformat": 4,
 "nbformat_minor": 5
}
